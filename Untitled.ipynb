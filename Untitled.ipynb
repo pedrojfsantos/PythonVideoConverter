{
 "cells": [
  {
   "cell_type": "markdown",
   "metadata": {},
   "source": [
    "# PYTHON VIDEO CONVERTER"
   ]
  },
  {
   "cell_type": "markdown",
   "metadata": {},
   "source": [
    "## Imports"
   ]
  },
  {
   "cell_type": "code",
   "execution_count": 1,
   "metadata": {
    "ExecuteTime": {
     "end_time": "2021-06-18T16:19:23.281508Z",
     "start_time": "2021-06-18T16:19:23.261924Z"
    }
   },
   "outputs": [],
   "source": [
    "import os\n",
    "import fnmatch"
   ]
  },
  {
   "cell_type": "markdown",
   "metadata": {},
   "source": [
    "## Intro"
   ]
  },
  {
   "cell_type": "markdown",
   "metadata": {},
   "source": [
    "This script is done to automatize the conversion of several videos to .MP4, using ffmpeg.\n",
    "It can be updated to convert to other formats.\n",
    "\n",
    "This requires the previous installation of ffmpeg on your system. For that use \"brew install ffmpeg\" command to make sure ffmpeg package is available for all system and not just for a specific environment.\n",
    "\n",
    "ffmpeg is a fast video encoder, with no interface, so it should be used from the command line. \n",
    "This is ok if just one file is needed to be encoded, however it is not much practical when dealing with several video files.\n",
    "\n",
    "In fact, I have more than 200 small .MOV videos, captured with an iPhone, and I wanted to save them in a laptop (not Mac). The problem is that laptops don't read .MOV, unless codecs are installed (I can't install codecs in that laptop), so the solution is to convert all the videos files to MP4.\n",
    "For a more practical way to do it, I used a simple python script to run a for loop that runs ffmped command for each video I wanted to convert.\n",
    "Take a look."
   ]
  },
  {
   "cell_type": "markdown",
   "metadata": {},
   "source": [
    "## ffmpeg conversion comand"
   ]
  },
  {
   "cell_type": "markdown",
   "metadata": {},
   "source": [
    "This is the comand to run ffmpeg, read an input video file and save it as mp4:"
   ]
  },
  {
   "cell_type": "code",
   "execution_count": 2,
   "metadata": {
    "ExecuteTime": {
     "end_time": "2021-06-18T16:19:30.423686Z",
     "start_time": "2021-06-18T16:19:30.418744Z"
    }
   },
   "outputs": [],
   "source": [
    "# ffmpeg -i input.mov -q:v 0 output.mp4"
   ]
  },
  {
   "cell_type": "markdown",
   "metadata": {},
   "source": [
    "It is possible to add several other options to this command.\n",
    "To see the available options, run the command \"ffmpeg -h\" on the command line."
   ]
  },
  {
   "cell_type": "code",
   "execution_count": 7,
   "metadata": {
    "ExecuteTime": {
     "end_time": "2021-06-18T16:24:31.204922Z",
     "start_time": "2021-06-18T16:24:31.200027Z"
    }
   },
   "outputs": [],
   "source": [
    "def ffmpeg_command(input_file_path, output_file_path):\n",
    "    \n",
    "    command = f'ffmpeg -i {input_file_path} -q:v 0 {output_file_path}' # creates the command as a string\n",
    "    \n",
    "    return os.system(command) # uses the os.system module to run the command at the command line."
   ]
  },
  {
   "cell_type": "markdown",
   "metadata": {},
   "source": [
    "## Managing all video files"
   ]
  },
  {
   "cell_type": "markdown",
   "metadata": {},
   "source": [
    "In my case, I have all the files organized by month inside Videos directory."
   ]
  },
  {
   "cell_type": "code",
   "execution_count": 4,
   "metadata": {
    "ExecuteTime": {
     "end_time": "2021-06-18T16:19:39.518111Z",
     "start_time": "2021-06-18T16:19:39.514003Z"
    }
   },
   "outputs": [],
   "source": [
    "input_path = os.walk('/Users/pedro/Desktop/Videos')"
   ]
  },
  {
   "cell_type": "markdown",
   "metadata": {},
   "source": [
    "Next will creat a for loop to run the previous command for every file in that directory"
   ]
  },
  {
   "cell_type": "code",
   "execution_count": 8,
   "metadata": {
    "ExecuteTime": {
     "end_time": "2021-06-18T16:24:55.277269Z",
     "start_time": "2021-06-18T16:24:45.844481Z"
    },
    "scrolled": true
   },
   "outputs": [
    {
     "name": "stdout",
     "output_type": "stream",
     "text": [
      "File #1 path: /Users/pedro/Desktop/Videos/IMG_0021.MOV\n",
      "Converting...\n",
      "File #1 saved as: /Users/pedro/Desktop/Videos/IMG_0021.MP4\n",
      "\n"
     ]
    }
   ],
   "source": [
    "n=0 # this is a counter\n",
    "\n",
    "for path, folders, files in os.walk('/Users/pedro/Desktop/Videos'): # os.walk goes over all the directory content\n",
    "    for file in files:\n",
    "        if 'MOV' in file and file.replace('MOV', 'MP4') not in files:\n",
    "            \"\"\"\n",
    "            The 'if' statment is to controll the file selection and to exclude those that do not need conversion.\n",
    "            This way the function just selects MOV files and only the ones that are not already converted.\n",
    "            \"\"\"\n",
    "            \n",
    "            input_file_path = f'{path}/{file}' # creates the path for the input file\n",
    "            \n",
    "            \"\"\"\n",
    "            When creating the path for the output file, its format is also defined.\n",
    "            In this case the output file will be saved in the same directory as the input file.\n",
    "            \"\"\"\n",
    "            output_file_path = input_file_path.replace('MOV', 'MP4') # creates the path for the output file\n",
    "            \n",
    "            \n",
    "            print(f'File #{n} path: {input_file_path}') # some prints to get some feedback\n",
    "            print('Converting...')\n",
    "            \n",
    "            ffmpeg_command(input_file_path, output_file_path)   #using the function created before\n",
    "                \n",
    "            print(f'File #{n} saved as: {output_file_path}\\n') # some prints to get some feedback\n",
    "\n",
    "        n+=1"
   ]
  },
  {
   "cell_type": "markdown",
   "metadata": {},
   "source": [
    "## Next steps"
   ]
  },
  {
   "cell_type": "markdown",
   "metadata": {},
   "source": [
    "This could be copied to py file to be used as a single package. In my case, as I use Jupyter all day, I prefer to have it in this format"
   ]
  },
  {
   "cell_type": "code",
   "execution_count": null,
   "metadata": {},
   "outputs": [],
   "source": []
  }
 ],
 "metadata": {
  "kernelspec": {
   "display_name": "Python 3",
   "language": "python",
   "name": "python3"
  },
  "language_info": {
   "codemirror_mode": {
    "name": "ipython",
    "version": 3
   },
   "file_extension": ".py",
   "mimetype": "text/x-python",
   "name": "python",
   "nbconvert_exporter": "python",
   "pygments_lexer": "ipython3",
   "version": "3.8.5"
  },
  "toc": {
   "base_numbering": 1,
   "nav_menu": {},
   "number_sections": true,
   "sideBar": true,
   "skip_h1_title": false,
   "title_cell": "Table of Contents",
   "title_sidebar": "Contents",
   "toc_cell": false,
   "toc_position": {},
   "toc_section_display": true,
   "toc_window_display": false
  }
 },
 "nbformat": 4,
 "nbformat_minor": 4
}
